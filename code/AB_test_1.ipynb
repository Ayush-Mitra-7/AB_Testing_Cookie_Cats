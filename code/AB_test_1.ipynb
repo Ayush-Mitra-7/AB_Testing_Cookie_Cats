{
 "cells": [
  {
   "cell_type": "markdown",
   "metadata": {},
   "source": [
    "### Importing Libraries\n"
   ]
  },
  {
   "cell_type": "code",
   "execution_count": 1,
   "metadata": {},
   "outputs": [],
   "source": [
    "import pandas as pd\n",
    "import numpy as np\n",
    "import matplotlib.pyplot as plt\n",
    "import seaborn as sns\n",
    "from scipy import stats as st\n",
    "from scipy.stats import shapiro, levene, mannwhitneyu\n",
    "import warnings\n",
    "warnings.simplefilter(action='ignore')"
   ]
  },
  {
   "cell_type": "markdown",
   "metadata": {},
   "source": [
    "### Loading Data\n"
   ]
  },
  {
   "cell_type": "code",
   "execution_count": 3,
   "metadata": {},
   "outputs": [],
   "source": [
    "data = pd.read_csv(r'..\\data\\cookie_cats.csv')"
   ]
  },
  {
   "cell_type": "code",
   "execution_count": 7,
   "metadata": {},
   "outputs": [
    {
     "data": {
      "text/html": [
       "<div>\n",
       "<style scoped>\n",
       "    .dataframe tbody tr th:only-of-type {\n",
       "        vertical-align: middle;\n",
       "    }\n",
       "\n",
       "    .dataframe tbody tr th {\n",
       "        vertical-align: top;\n",
       "    }\n",
       "\n",
       "    .dataframe thead th {\n",
       "        text-align: right;\n",
       "    }\n",
       "</style>\n",
       "<table border=\"1\" class=\"dataframe\">\n",
       "  <thead>\n",
       "    <tr style=\"text-align: right;\">\n",
       "      <th></th>\n",
       "      <th>userid</th>\n",
       "      <th>version</th>\n",
       "      <th>sum_gamerounds</th>\n",
       "      <th>retention_1</th>\n",
       "      <th>retention_7</th>\n",
       "    </tr>\n",
       "  </thead>\n",
       "  <tbody>\n",
       "    <tr>\n",
       "      <th>0</th>\n",
       "      <td>116</td>\n",
       "      <td>gate_30</td>\n",
       "      <td>3</td>\n",
       "      <td>False</td>\n",
       "      <td>False</td>\n",
       "    </tr>\n",
       "    <tr>\n",
       "      <th>1</th>\n",
       "      <td>337</td>\n",
       "      <td>gate_30</td>\n",
       "      <td>38</td>\n",
       "      <td>True</td>\n",
       "      <td>False</td>\n",
       "    </tr>\n",
       "    <tr>\n",
       "      <th>2</th>\n",
       "      <td>377</td>\n",
       "      <td>gate_40</td>\n",
       "      <td>165</td>\n",
       "      <td>True</td>\n",
       "      <td>False</td>\n",
       "    </tr>\n",
       "    <tr>\n",
       "      <th>3</th>\n",
       "      <td>483</td>\n",
       "      <td>gate_40</td>\n",
       "      <td>1</td>\n",
       "      <td>False</td>\n",
       "      <td>False</td>\n",
       "    </tr>\n",
       "    <tr>\n",
       "      <th>4</th>\n",
       "      <td>488</td>\n",
       "      <td>gate_40</td>\n",
       "      <td>179</td>\n",
       "      <td>True</td>\n",
       "      <td>True</td>\n",
       "    </tr>\n",
       "  </tbody>\n",
       "</table>\n",
       "</div>"
      ],
      "text/plain": [
       "   userid  version  sum_gamerounds  retention_1  retention_7\n",
       "0     116  gate_30               3        False        False\n",
       "1     337  gate_30              38         True        False\n",
       "2     377  gate_40             165         True        False\n",
       "3     483  gate_40               1        False        False\n",
       "4     488  gate_40             179         True         True"
      ]
     },
     "execution_count": 7,
     "metadata": {},
     "output_type": "execute_result"
    }
   ],
   "source": [
    "data.head()"
   ]
  },
  {
   "cell_type": "markdown",
   "metadata": {},
   "source": [
    "### Descriptive Statistics\n"
   ]
  },
  {
   "cell_type": "code",
   "execution_count": 6,
   "metadata": {},
   "outputs": [
    {
     "data": {
      "text/plain": [
       "userid            0\n",
       "version           0\n",
       "sum_gamerounds    0\n",
       "retention_1       0\n",
       "retention_7       0\n",
       "dtype: int64"
      ]
     },
     "execution_count": 6,
     "metadata": {},
     "output_type": "execute_result"
    }
   ],
   "source": [
    "data.isnull().sum()"
   ]
  },
  {
   "cell_type": "code",
   "execution_count": 8,
   "metadata": {},
   "outputs": [
    {
     "name": "stdout",
     "output_type": "stream",
     "text": [
      "Number of Unique Players: 90189\n"
     ]
    }
   ],
   "source": [
    "# Number of unique player\n",
    "print('Number of Unique Players:', data[\"userid\"].nunique())"
   ]
  },
  {
   "cell_type": "code",
   "execution_count": 14,
   "metadata": {},
   "outputs": [
    {
     "data": {
      "image/png": "[encoded data removed]",
      "text/plain": [
       "<Figure size 1200x800 with 1 Axes>"
      ]
     },
     "metadata": {},
     "output_type": "display_data"
    },
    {
     "name": "stdout",
     "output_type": "stream",
     "text": [
      " \n",
      "OBSERVATION: The number of players in each version is very balanced the data is not very skewed.\n",
      "\n"
     ]
    }
   ],
   "source": [
    "import matplotlib.pyplot as plt\n",
    "\n",
    "# Assuming 'data' is your DataFrame or data source\n",
    "plt.figure(figsize=(12, 8))\n",
    "\n",
    "# Create the pie chart with labels and set the font size using 'textprops'\n",
    "plt.pie(\n",
    "    x=data['version'].value_counts().values,\n",
    "    labels=data['version'].value_counts().index,\n",
    "    autopct='%.2f%%',\n",
    "    textprops={'fontsize': 20}  # You can adjust the font size (e.g., 14)\n",
    ")\n",
    "\n",
    "plt.show()\n",
    "\n",
    "\n",
    "\n",
    "print(''' \n",
    "OBSERVATION: The number of players in each version is very balanced the data is not very skewed.\n",
    "''')"
   ]
  },
  {
   "cell_type": "code",
   "execution_count": 18,
   "metadata": {},
   "outputs": [
    {
     "data": {
      "image/png": "[encoded data removed]",
      "text/plain": [
       "<Figure size 640x480 with 1 Axes>"
      ]
     },
     "metadata": {},
     "output_type": "display_data"
    },
    {
     "name": "stdout",
     "output_type": "stream",
     "text": [
      " \n",
      "    OBSERVATION: In the above plot we can see that some players install the game but then never play it (0 game rounds)\n",
      "      \n"
     ]
    }
   ],
   "source": [
    "# Plotting the distribution of players that played 0 to 200 game rounds\n",
    "ax = data.groupby(\"sum_gamerounds\")[\"userid\"].count().head(200).plot()\n",
    "plt.title(\"The distribution of players\", fontweight=\"bold\", size=14)\n",
    "plt.xlabel(\"total gamerounds\", size=12)\n",
    "plt.ylabel(\"number of player\", size=12)\n",
    "plt.show()\n",
    "\n",
    "\n",
    "print(''' \n",
    "    OBSERVATION: In the above plot we can see that some players install the game but then never play it (0 game rounds)\n",
    "      ''')"
   ]
  },
  {
   "cell_type": "code",
   "execution_count": 5,
   "metadata": {},
   "outputs": [
    {
     "data": {
      "image/png": "[encoded data removed]",
      "text/plain": [
       "<Figure size 640x480 with 1 Axes>"
      ]
     },
     "metadata": {},
     "output_type": "display_data"
    },
    {
     "name": "stdout",
     "output_type": "stream",
     "text": [
      " \n",
      "    OBSERVATION: the average number of game rounds seems to be more for 'gate30'\n",
      "      \n"
     ]
    }
   ],
   "source": [
    "data.groupby(\"version\")[\"sum_gamerounds\"].mean().plot(kind=\"bar\", color=[ \"red\", \"cyan\"])\n",
    "plt.show()\n",
    "\n",
    "print(''' \n",
    "    OBSERVATION: the average number of game rounds seems to be more for 'gate30'\n",
    "      ''')"
   ]
  },
  {
   "cell_type": "code",
   "execution_count": 16,
   "metadata": {},
   "outputs": [
    {
     "data": {
      "text/plain": [
       "version\n",
       "gate_30    52.46\n",
       "gate_40    51.30\n",
       "Name: sum_gamerounds, dtype: float64"
      ]
     },
     "execution_count": 16,
     "metadata": {},
     "output_type": "execute_result"
    }
   ],
   "source": [
    "round(data.groupby(\"version\")[\"sum_gamerounds\"].mean(),2)"
   ]
  },
  {
   "cell_type": "code",
   "execution_count": 14,
   "metadata": {},
   "outputs": [
    {
     "name": "stdout",
     "output_type": "stream",
     "text": [
      "The percentage of Players installing the game and never playing it is 4.43%\n"
     ]
    }
   ],
   "source": [
    "# Percentage of Players Never Playing the game\n",
    "print(\n",
    "    f'The percentage of Players installing the game and never playing it is {round(len(data[data.sum_gamerounds == 0]) / len(data) , 4) * 100}%')"
   ]
  },
  {
   "cell_type": "code",
   "execution_count": 45,
   "metadata": {},
   "outputs": [
    {
     "data": {
      "text/html": [
       "<div>\n",
       "<style scoped>\n",
       "    .dataframe tbody tr th:only-of-type {\n",
       "        vertical-align: middle;\n",
       "    }\n",
       "\n",
       "    .dataframe tbody tr th {\n",
       "        vertical-align: top;\n",
       "    }\n",
       "\n",
       "    .dataframe thead tr th {\n",
       "        text-align: left;\n",
       "    }\n",
       "\n",
       "    .dataframe thead tr:last-of-type th {\n",
       "        text-align: right;\n",
       "    }\n",
       "</style>\n",
       "<table border=\"1\" class=\"dataframe\">\n",
       "  <thead>\n",
       "    <tr>\n",
       "      <th></th>\n",
       "      <th colspan=\"3\" halign=\"left\">sum_gamerounds</th>\n",
       "    </tr>\n",
       "    <tr>\n",
       "      <th></th>\n",
       "      <th>mean</th>\n",
       "      <th>max</th>\n",
       "      <th>count</th>\n",
       "    </tr>\n",
       "    <tr>\n",
       "      <th>version</th>\n",
       "      <th></th>\n",
       "      <th></th>\n",
       "      <th></th>\n",
       "    </tr>\n",
       "  </thead>\n",
       "  <tbody>\n",
       "    <tr>\n",
       "      <th>gate_30</th>\n",
       "      <td>52.456264</td>\n",
       "      <td>49854</td>\n",
       "      <td>44700</td>\n",
       "    </tr>\n",
       "    <tr>\n",
       "      <th>gate_40</th>\n",
       "      <td>51.298776</td>\n",
       "      <td>2640</td>\n",
       "      <td>45489</td>\n",
       "    </tr>\n",
       "  </tbody>\n",
       "</table>\n",
       "</div>"
      ],
      "text/plain": [
       "        sum_gamerounds              \n",
       "                  mean    max  count\n",
       "version                             \n",
       "gate_30      52.456264  49854  44700\n",
       "gate_40      51.298776   2640  45489"
      ]
     },
     "execution_count": 45,
     "metadata": {},
     "output_type": "execute_result"
    }
   ],
   "source": [
    "#Number of game rounds played by player for each version\n",
    "data.groupby(\"version\").agg({\"sum_gamerounds\" : [\"mean\",\"max\",\"count\"]})"
   ]
  },
  {
   "cell_type": "markdown",
   "metadata": {},
   "source": [
    "### A/B Testing"
   ]
  },
  {
   "cell_type": "markdown",
   "metadata": {},
   "source": [
    "Hypothesis\n",
    "\n",
    "μ1=gate is at level 30\n",
    "\n",
    "μ2=gate is at level 40\n",
    "\n",
    "HO -> The μ1=μ2 (No statistical significance)\n",
    "\n",
    "H1 -> The μ1!=μ2 (statistical significance)\n"
   ]
  },
  {
   "cell_type": "markdown",
   "metadata": {},
   "source": [
    "Assumptions Control\n",
    "\n",
    "        i.Normal Distribution\n",
    "        H0 : The assumption of normal distribution is provided.\n",
    "        H1 : The assumption of normal distribution is not provided.\n",
    "        p-value < 0.05 => H0 -> Reject\n",
    "        p-value > 0.05 => H0 -> Cannot Reject"
   ]
  },
  {
   "cell_type": "code",
   "execution_count": 71,
   "metadata": {},
   "outputs": [
    {
     "name": "stdout",
     "output_type": "stream",
     "text": [
      "Test Stat = 0.0881, p-value = 0.0000\n"
     ]
    }
   ],
   "source": [
    "# gate30 \n",
    "test_stat, pvalue = shapiro(data.loc[data[\"version\"] == \"gate_30\", \"sum_gamerounds\"])\n",
    "print(\"Test Stat = %.4f, p-value = %.4f\" % (test_stat, pvalue))"
   ]
  },
  {
   "cell_type": "code",
   "execution_count": 72,
   "metadata": {},
   "outputs": [
    {
     "name": "stdout",
     "output_type": "stream",
     "text": [
      "Test Stat = 0.4826, p-value = 0.0000\n"
     ]
    }
   ],
   "source": [
    "# gate40\n",
    "test_stat, pvalue = shapiro(data.loc[data[\"version\"] == \"gate_40\", \"sum_gamerounds\"])\n",
    "print(\"Test Stat = %.4f, p-value = %.4f\" % (test_stat, pvalue))"
   ]
  },
  {
   "cell_type": "markdown",
   "metadata": {},
   "source": [
    "In both cases, p-value = 0. The normality assumption was rejected because it was less than 0.05."
   ]
  },
  {
   "cell_type": "markdown",
   "metadata": {},
   "source": [
    "        ii.Variance Homogeneity Assumption\n",
    "        H0 : The variance is homogeneous.\n",
    "        H1 : The variance is not homogeneous.\n",
    "        p-value < 0.05 => H0 -> Reject\n",
    "        p-value > 0.05 => H0 -> Cannot Reject"
   ]
  },
  {
   "cell_type": "code",
   "execution_count": 73,
   "metadata": {},
   "outputs": [
    {
     "name": "stdout",
     "output_type": "stream",
     "text": [
      "Test Stat = 0.5292, p-value = 0.4669\n"
     ]
    }
   ],
   "source": [
    "test_stat, pvalue = levene(data.loc[data[\"version\"] == \"gate_30\", \"sum_gamerounds\"],\n",
    "                            data.loc[data[\"version\"] == \"gate_40\", \"sum_gamerounds\"])\n",
    "print(\"Test Stat = %.4f, p-value = %.4f\" % (test_stat, pvalue))"
   ]
  },
  {
   "cell_type": "markdown",
   "metadata": {},
   "source": [
    "H0 cannot be rejected because the p-value is greater than 0.05. "
   ]
  },
  {
   "cell_type": "markdown",
   "metadata": {},
   "source": [
    "If the normality assumption is rejected for the A/B test, but the variance homogeneity assumption is satisfied, then it is recommended to use non-parametric test methods. "
   ]
  },
  {
   "cell_type": "code",
   "execution_count": 74,
   "metadata": {},
   "outputs": [
    {
     "name": "stdout",
     "output_type": "stream",
     "text": [
      "Test Stat = 1024331250.5000, p-value = 0.0502\n"
     ]
    }
   ],
   "source": [
    "test_stat, pvalue = mannwhitneyu(data.loc[data[\"version\"] == \"gate_30\", \"sum_gamerounds\"],\n",
    "                            data.loc[data[\"version\"] == \"gate_40\", \"sum_gamerounds\"])\n",
    "print(\"Test Stat = %.4f, p-value = %.4f\" % (test_stat, pvalue))"
   ]
  },
  {
   "cell_type": "markdown",
   "metadata": {},
   "source": [
    "#### Result"
   ]
  },
  {
   "cell_type": "markdown",
   "metadata": {},
   "source": [
    "H0 cannot be rejected because the p-value is greater than 0.05\n",
    "\n",
    "There is no statistically significant difference between 'gate30' and 'gate40' with 95% confidence"
   ]
  },
  {
   "cell_type": "markdown",
   "metadata": {},
   "source": [
    "Now, we may look to other factors like how to postion of the gate effect retention, that is, is there any statistical significance in retention based on the gates position"
   ]
  },
  {
   "cell_type": "markdown",
   "metadata": {},
   "source": [
    "### A/B Testing on Retention\n"
   ]
  },
  {
   "cell_type": "code",
   "execution_count": 32,
   "metadata": {},
   "outputs": [
    {
     "name": "stdout",
     "output_type": "stream",
     "text": [
      "1-day retention ratio: 44.52%\n",
      "7-days retention ratio: 18.61%\n",
      "\n",
      "OBSERVATION: A little less than half of the players come back one day after installing the game. \n",
      "             18% of the players come back 7 day after installing the game.\n",
      "      \n"
     ]
    }
   ],
   "source": [
    "# Percentage of Retention for the 1st day and the 7th day after installing the game\n",
    "df_retention = data[[\"retention_1\", \"retention_7\"]].mean()*100\n",
    "print(\n",
    "    f\"1-day retention ratio: {round(df_retention[0],2)}%\\n7-days retention ratio: {round(df_retention[1],2)}%\")\n",
    "\n",
    "print('''\n",
    "OBSERVATION: A little less than half of the players come back one day after installing the game. \n",
    "             18% of the players come back 7 day after installing the game.\n",
    "      ''')"
   ]
  },
  {
   "cell_type": "code",
   "execution_count": 4,
   "metadata": {},
   "outputs": [
    {
     "name": "stdout",
     "output_type": "stream",
     "text": [
      "         User Count  1-Day Retention  7-Day Retention  Total Game Rounds\n",
      "version                                                                 \n",
      "gate_30       44700         0.448188         0.190201            2344795\n",
      "gate_40       45489         0.442283         0.182000            2333530\n",
      " \n",
      "OBSERVATION: 1.There was a slight decrease in 1-day retention when the gate was moved to level 40 (44.2%) compared \n",
      "               to the control group when it was at level 30 (44.8%).\n",
      "             2.A decrease in 7-day retention when the gate was moved to level 40 (18.2%) compared to the control \n",
      "               group when it was at level 30 (19.8%).\n",
      "\n"
     ]
    }
   ],
   "source": [
    "# Calculating 1-day and 7-days retention for each A/B group\n",
    "df_retention_ab = data.groupby(\"version\").agg(\n",
    "    {\"userid\": \"count\", \"retention_1\": \"mean\", \"retention_7\": \"mean\", \"sum_gamerounds\": \"sum\"})\n",
    "df_retention_ab = df_retention_ab.rename(columns={\n",
    "    \"userid\": \"User Count\",\n",
    "    \"retention_1\": \"1-Day Retention\",\n",
    "    \"retention_7\": \"7-Day Retention\",\n",
    "    \"sum_gamerounds\": \"Total Game Rounds\"\n",
    "})\n",
    "\n",
    "print(df_retention_ab)\n",
    "\n",
    "\n",
    "print(''' \n",
    "OBSERVATION: 1.There was a slight decrease in 1-day retention when the gate was moved to level 40 (44.2%) compared \n",
    "               to the control group when it was at level 30 (44.8%).\n",
    "             2.A decrease in 7-day retention when the gate was moved to level 40 (18.2%) compared to the control \n",
    "               group when it was at level 30 (19.8%).\n",
    "''')"
   ]
  },
  {
   "cell_type": "markdown",
   "metadata": {},
   "source": [
    "#### 1. A/B Testing Using Hypothesis"
   ]
  },
  {
   "cell_type": "markdown",
   "metadata": {},
   "source": [
    "Hypothesis\n",
    "\n",
    "μ1=retention when gate is at level 30\n",
    "\n",
    "μ2=retention when gate is at level 40\n",
    "\n",
    "HO -> The μ1=μ2 (No statstical significance)\n",
    "\n",
    "H1 -> The μ1!=μ2 (statstical significance)\n"
   ]
  },
  {
   "cell_type": "code",
   "execution_count": 52,
   "metadata": {},
   "outputs": [],
   "source": [
    "control = data[data['version'] == 'gate_30'].copy()\n",
    "\n",
    "control.retention_1 = control.retention_1.replace({True: 1, False: 0})\n",
    "control.retention_7 = control.retention_7.replace({True: 1, False: 0})"
   ]
  },
  {
   "cell_type": "code",
   "execution_count": 58,
   "metadata": {},
   "outputs": [],
   "source": [
    "experimental = data[data['version'] == 'gate_40'].copy()\n",
    "\n",
    "experimental.retention_1 = experimental.retention_1.replace({True: 1, False: 0})\n",
    "experimental.retention_7 = experimental.retention_7.replace({True: 1, False: 0})"
   ]
  },
  {
   "cell_type": "code",
   "execution_count": 59,
   "metadata": {},
   "outputs": [],
   "source": [
    "def AB_testing(x1 , x2 ):\n",
    "    x_bar1 = np.mean(x1)\n",
    "    var1 = np.var(x1)\n",
    "    n1 = len(x1)\n",
    "    \n",
    "    x_bar2 = np.mean(x2)\n",
    "    var2 = np.var(x2)\n",
    "    n2 = len(x2)\n",
    "    \n",
    "    z_score = (x_bar1 - x_bar2) / np.sqrt((var1 / n1) + (var2 / n2))\n",
    "    p_value = st.norm.cdf(z_score)\n",
    "    if z_score > 0:\n",
    "        p_value = 2*(1 - p_value)\n",
    "    else:\n",
    "        p_value = 2 * p_value\n",
    "    return print(f'z-score : {z_score} , p-value : {p_value}')"
   ]
  },
  {
   "cell_type": "code",
   "execution_count": 60,
   "metadata": {},
   "outputs": [
    {
     "name": "stdout",
     "output_type": "stream",
     "text": [
      "z-score : 3.1640640401484066 , p-value : 0.0015558255737109228\n"
     ]
    }
   ],
   "source": [
    "AB_testing(control['retention_7'] , experimental['retention_7'])"
   ]
  },
  {
   "cell_type": "code",
   "execution_count": 6,
   "metadata": {},
   "outputs": [
    {
     "name": "stdout",
     "output_type": "stream",
     "text": [
      "Test Stat = 1025017239.0000, p-value = 0.0016\n"
     ]
    }
   ],
   "source": [
    "test_stat, pvalue = mannwhitneyu(data.loc[data[\"version\"] == \"gate_30\", \"retention_7\"],\n",
    "                            data.loc[data[\"version\"] == \"gate_40\", \"retention_7\"])\n",
    "print(\"Test Stat = %.4f, p-value = %.4f\" % (test_stat, pvalue))"
   ]
  },
  {
   "cell_type": "markdown",
   "metadata": {},
   "source": [
    "There is sufficient evidence to declare a difference in the average 7 days retention for the two groups, As the p-value is less than alpha = 0.05 we can reject the null hypothesis at the level of 7 days retention."
   ]
  },
  {
   "cell_type": "code",
   "execution_count": 61,
   "metadata": {},
   "outputs": [
    {
     "name": "stdout",
     "output_type": "stream",
     "text": [
      "z-score : 1.7840972718295067 , p-value : 0.07440786052354165\n"
     ]
    }
   ],
   "source": [
    "AB_testing(control['retention_1'] , experimental['retention_1'])"
   ]
  },
  {
   "cell_type": "code",
   "execution_count": 5,
   "metadata": {},
   "outputs": [
    {
     "name": "stdout",
     "output_type": "stream",
     "text": [
      "Test Stat = 1022682813.0000, p-value = 0.0744\n"
     ]
    }
   ],
   "source": [
    "test_stat, pvalue = mannwhitneyu(data.loc[data[\"version\"] == \"gate_30\", \"retention_1\"],\n",
    "                            data.loc[data[\"version\"] == \"gate_40\", \"retention_1\"])\n",
    "print(\"Test Stat = %.4f, p-value = %.4f\" % (test_stat, pvalue))"
   ]
  },
  {
   "cell_type": "markdown",
   "metadata": {},
   "source": [
    "Here we can not reject the null hypothese at the level of 1 days retention"
   ]
  },
  {
   "cell_type": "markdown",
   "metadata": {},
   "source": [
    "#### Result"
   ]
  },
  {
   "cell_type": "markdown",
   "metadata": {},
   "source": [
    "Percentage of returning players of control group after 7 day is 19.0%, whereas Percentage of returning players of experimental group is 18.2%\n",
    "\n",
    "Movement of gate to the 40th level affects negatively on numbers of returning players after 7 days\n",
    "\n",
    "Z-test above confirms that the changes were significant"
   ]
  }
 ],
 "metadata": {
  "kernelspec": {
   "display_name": "Project_env",
   "language": "python",
   "name": "python3"
  },
  "language_info": {
   "codemirror_mode": {
    "name": "ipython",
    "version": 3
   },
   "file_extension": ".py",
   "mimetype": "text/x-python",
   "name": "python",
   "nbconvert_exporter": "python",
   "pygments_lexer": "ipython3",
   "version": "3.10.8"
  },
  "orig_nbformat": 4
 },
 "nbformat": 4,
 "nbformat_minor": 2
}
